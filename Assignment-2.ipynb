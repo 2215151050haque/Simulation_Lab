{
  "nbformat": 4,
  "nbformat_minor": 0,
  "metadata": {
    "colab": {
      "provenance": [],
      "authorship_tag": "ABX9TyPLT1RG3JbbbsjFu+ZiP5W0",
      "include_colab_link": true
    },
    "kernelspec": {
      "name": "python3",
      "display_name": "Python 3"
    },
    "language_info": {
      "name": "python"
    }
  },
  "cells": [
    {
      "cell_type": "markdown",
      "metadata": {
        "id": "view-in-github",
        "colab_type": "text"
      },
      "source": [
        "<a href=\"https://colab.research.google.com/github/2215151050haque/Simulation_Lab/blob/main/Assignment-2.ipynb\" target=\"_parent\"><img src=\"https://colab.research.google.com/assets/colab-badge.svg\" alt=\"Open In Colab\"/></a>"
      ]
    },
    {
      "cell_type": "code",
      "source": [
        "import numpy as np\n",
        "\n",
        "# With a fixed seed\n",
        "np.random.seed(10)\n",
        "matrix_fixed_seed = np.random.randint(1, 51, size=(3, 3))\n",
        "print(\"Matrix with fixed seed:\\n\", matrix_fixed_seed)\n",
        "\n",
        "# Without setting a seed\n",
        "matrix_no_seed = np.random.randint(1, 51, size=(3, 3))\n",
        "print(\"\\nMatrix without seed:\\n\", matrix_no_seed)\n"
      ],
      "metadata": {
        "colab": {
          "base_uri": "https://localhost:8080/"
        },
        "id": "khuq_wRKRK7u",
        "outputId": "5fa8c17e-c7f8-4ec8-aeb9-c734daa593d6"
      },
      "execution_count": 24,
      "outputs": [
        {
          "output_type": "stream",
          "name": "stdout",
          "text": [
            "Matrix with fixed seed:\n",
            " [[10 37 16]\n",
            " [ 1 50 29]\n",
            " [26 30 49]]\n",
            "\n",
            "Matrix without seed:\n",
            " [[30 50  9]\n",
            " [10  1 43]\n",
            " [41 37 17]]\n"
          ]
        }
      ]
    },
    {
      "cell_type": "code",
      "source": [
        "# With a fixed seed\n",
        "The matrices will generate same sequence of number each time executed.\n",
        "This is useful for reproducibility.\n",
        "\n",
        "# Without setting a seed\n",
        "The number of the matrices will vary each time. The generated random numbers will be unpredictable every time."
      ],
      "metadata": {
        "id": "X_HZxtsBSC0h"
      },
      "execution_count": null,
      "outputs": []
    }
  ]
}