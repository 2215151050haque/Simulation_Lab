{
  "nbformat": 4,
  "nbformat_minor": 0,
  "metadata": {
    "colab": {
      "provenance": [],
      "authorship_tag": "ABX9TyNIyZoJJ/gGPEGmnF+TW0Cu",
      "include_colab_link": true
    },
    "kernelspec": {
      "name": "python3",
      "display_name": "Python 3"
    },
    "language_info": {
      "name": "python"
    }
  },
  "cells": [
    {
      "cell_type": "markdown",
      "metadata": {
        "id": "view-in-github",
        "colab_type": "text"
      },
      "source": [
        "<a href=\"https://colab.research.google.com/github/2215151050haque/Simulation_Lab/blob/main/Asssignment-4.ipynb\" target=\"_parent\"><img src=\"https://colab.research.google.com/assets/colab-badge.svg\" alt=\"Open In Colab\"/></a>"
      ]
    },
    {
      "cell_type": "code",
      "execution_count": 5,
      "metadata": {
        "id": "R_YkGpRNOw0d",
        "colab": {
          "base_uri": "https://localhost:8080/"
        },
        "outputId": "e51d8bee-ec02-4cb5-caa0-d905129f5728"
      },
      "outputs": [
        {
          "output_type": "stream",
          "name": "stdout",
          "text": [
            "T-statistic: -3.8103345987442263\n",
            "P-value: 0.00024231222660965328\n",
            "Reject the null hypothesis. The means are significantly different.\n"
          ]
        }
      ],
      "source": [
        "import numpy as np\n",
        "from scipy import stats\n",
        "\n",
        "# Generate two sets of random data from normal distributions\n",
        "data1 = np.random.normal(loc=10, scale=2, size=50)  # mean = 10, std dev = 2\n",
        "data2 = np.random.normal(loc=12, scale=2, size=50)  # mean = 12, std dev = 2\n",
        "\n",
        "\n",
        "# Perform the two-sample t-test\n",
        "t_statistic, p_value = stats.ttest_ind(data1, data2)\n",
        "\n",
        "# Print the results\n",
        "print(\"T-statistic:\", t_statistic)\n",
        "print(\"P-value:\", p_value)\n",
        "\n",
        "# Interpret the results\n",
        "alpha = 0.05  # significance level\n",
        "\n",
        "if p_value < alpha:\n",
        "    print(\"Reject the null hypothesis. The means are significantly different.\")\n",
        "else:\n",
        "    print(\"Fail to reject the null hypothesis. There is no significant difference between the means.\")\n"
      ]
    }
  ]
}